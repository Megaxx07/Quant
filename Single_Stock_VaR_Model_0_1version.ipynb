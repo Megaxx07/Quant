{
  "nbformat": 4,
  "nbformat_minor": 0,
  "metadata": {
    "colab": {
      "provenance": [],
      "authorship_tag": "ABX9TyMosdeHGEDQaDBDsRbZMFLq",
      "include_colab_link": true
    },
    "kernelspec": {
      "name": "python3",
      "display_name": "Python 3"
    },
    "language_info": {
      "name": "python"
    }
  },
  "cells": [
    {
      "cell_type": "markdown",
      "metadata": {
        "id": "view-in-github",
        "colab_type": "text"
      },
      "source": [
        "<a href=\"https://colab.research.google.com/github/Megaxx07/Quant/blob/main/Single_Stock_VaR_Model_0_1version.ipynb\" target=\"_parent\"><img src=\"https://colab.research.google.com/assets/colab-badge.svg\" alt=\"Open In Colab\"/></a>"
      ]
    },
    {
      "cell_type": "code",
      "source": [
        "%%writefile VaR_model_single_stock.py\n",
        "\n",
        "import  pandas_datareader.data as web\n",
        "import numpy as np\n",
        "import yfinance as yf\n",
        "from scipy.stats import norm, t\n",
        "import pandas as pd\n",
        "import datetime as dt\n",
        "from pandas_datareader import data as pdr\n",
        "yf.pdr_override()\n",
        "\n",
        "\n",
        "# import data\n",
        "def getData(stocks, start, end):\n",
        "  stockData = web.get_data_yahoo(stocks,start=start,end=end)\n",
        "  stockData = stockData['Close']\n",
        "  returns = stockData.pct_change()\n",
        "  meanReturns = returns.mean()\n",
        "  # covMatrix = returns.cov()\n",
        "  return returns, meanReturns\n",
        "\n",
        "#Portfolio Performance\n",
        "def portfolioperfomance(meanReturns, Time): #Time for time step to evaluate the VaR time step\n",
        "  returns = np.sum(meanReturns)*Time\n",
        "  return returns\n",
        "\n",
        "\n",
        "stocks = input('Enter a stock code: ')\n",
        "\n",
        "# define the time span\n",
        "# endDate = dt.datetime.now()\n",
        "# startDate = endDate - dt.timedelta(days = 800)\n",
        "x = int(input('Enter your analysis time span: '))\n",
        "endDate = dt.datetime.now()\n",
        "startDate = endDate - dt.timedelta(days = x)\n",
        "\n",
        "returns, meanReturns = getData(stocks, start = startDate, end = endDate)\n",
        "returns = returns.dropna()\n",
        "\n",
        "\n",
        "def historicalVaR(returns, alpha = 5):\n",
        "   \"\"\"\n",
        "   Read in a pandas dataframe of returns / a pandas series of returns\n",
        "   Output the percentile of the distribution st the given alpha confidence level\n",
        "   \"\"\"\n",
        "   if isinstance(returns, pd.Series): # What is isinstance?\n",
        "     return np.percentile(returns, alpha)\n",
        "\n",
        "   #A passed user-defined-function will be passed a Series for evaluation\n",
        "   elif isinstance(returns, pd.DataFrame):\n",
        "     return returns.aggregate(historicalVaR, alpha=5)\n",
        "\n",
        "   else:\n",
        "     raise TypeError(\"Expected returns to be dataframe or series\")\n",
        "\n",
        "def historicalCVaR(returns, alpha = 5):\n",
        "   \"\"\"\n",
        "   Read in a pandas dataframe of returns / a pandas series of returns\n",
        "   Output the CVaR fro dataframe / series\n",
        "   \"\"\"\n",
        "   if isinstance(returns, pd.Series):\n",
        "     belowVaR = returns <= historicalVaR(returns, alpha =alpha)\n",
        "     return returns[belowVaR].mean()\n",
        "\n",
        "   #A passed user-defined-function will be passed a Series for evaluation\n",
        "   elif isinstance(returns, pd.DataFrame):\n",
        "     return returns.aggregate(historicalCVaR, alpha=5) #Aggregate funtion?\n",
        "\n",
        "   else:\n",
        "     raise TypeError(\"Expected returns to be dataframe or series\")\n",
        "\n",
        "Time = int(input(\"Enter your investment time period: \")) # specific time is better?\n",
        "InitialInvestment = int(input(\"Enter your investment capital: \"))\n",
        "\n",
        "\n",
        "VaR = -historicalVaR(returns, alpha=5)*np.sqrt(Time)\n",
        "CVaR = -historicalCVaR(returns, alpha=5)*np.sqrt(Time)\n",
        "pRet = portfolioperfomance(meanReturns, Time)\n",
        "\n",
        "\n",
        "print('Expected Return:       ', round(InitialInvestment*pRet, 2))\n",
        "print('Value at Risk 95th CI:       ', round(InitialInvestment*VaR, 2))\n",
        "print('Conditional VaR 95th CI:       ', round(InitialInvestment*CVaR, 2))"
      ],
      "metadata": {
        "colab": {
          "base_uri": "https://localhost:8080/"
        },
        "id": "hycp-XIEGdA5",
        "outputId": "56aea9bf-5f57-46fa-8c35-7b85510e1263"
      },
      "execution_count": 1,
      "outputs": [
        {
          "output_type": "stream",
          "name": "stdout",
          "text": [
            "Writing VaR_model_single_stock.py\n"
          ]
        }
      ]
    },
    {
      "cell_type": "code",
      "source": [
        "!python3 \"/content/VaR_model_single_stock.py\""
      ],
      "metadata": {
        "colab": {
          "base_uri": "https://localhost:8080/"
        },
        "id": "jrqTp6pmGg7Q",
        "outputId": "bd9b37f4-1ae1-4eb4-a8b6-62204e9d4051"
      },
      "execution_count": 3,
      "outputs": [
        {
          "output_type": "stream",
          "name": "stdout",
          "text": [
            "Enter a stock code: 002027.SZ\n",
            "Enter your analysis time span: 900\n",
            "[*********************100%***********************]  1 of 1 completed\n",
            "Enter your investment time period: 90\n",
            "Enter your investment capital: 1000000\n",
            "Expected Return:        -41595.93\n",
            "Value at Risk 95th CI:        406788.15\n",
            "Conditional VaR 95th CI:        522432.89\n"
          ]
        }
      ]
    },
    {
      "cell_type": "code",
      "source": [
        "import datetime as dt\n",
        "from datetime import date"
      ],
      "metadata": {
        "id": "1KutyQj9UKjc"
      },
      "execution_count": null,
      "outputs": []
    },
    {
      "cell_type": "code",
      "source": [
        "x = int(input('Enter your analysis time span: '))\n",
        "endDate = dt.datetime.now()\n",
        "startDate = endDate - dt.timedelta(days = x)"
      ],
      "metadata": {
        "id": "WdWwQyuaJOLX",
        "colab": {
          "base_uri": "https://localhost:8080/"
        },
        "outputId": "8c71fe5e-574f-4e6c-8722-214a26c4f470"
      },
      "execution_count": null,
      "outputs": [
        {
          "name": "stdout",
          "output_type": "stream",
          "text": [
            "Enter your analysis time span: 3\n"
          ]
        }
      ]
    },
    {
      "cell_type": "code",
      "source": [
        "startDate"
      ],
      "metadata": {
        "colab": {
          "base_uri": "https://localhost:8080/"
        },
        "id": "d-HMUtppRKsv",
        "outputId": "cce0f2b7-560d-4b63-fd69-68605c4c2593"
      },
      "execution_count": null,
      "outputs": [
        {
          "output_type": "execute_result",
          "data": {
            "text/plain": [
              "datetime.datetime(2023, 6, 18, 18, 56, 26, 953379)"
            ]
          },
          "metadata": {},
          "execution_count": 21
        }
      ]
    },
    {
      "cell_type": "code",
      "source": [
        "a = 20230405\n",
        "\n",
        "date1 = date.fromisoformat('20230405')"
      ],
      "metadata": {
        "colab": {
          "base_uri": "https://localhost:8080/",
          "height": 206
        },
        "id": "VMZoxBHIR6hn",
        "outputId": "0b9b5216-5226-49b9-d3f0-816ac1cab88c"
      },
      "execution_count": null,
      "outputs": [
        {
          "output_type": "error",
          "ename": "ValueError",
          "evalue": "ignored",
          "traceback": [
            "\u001b[0;31m---------------------------------------------------------------------------\u001b[0m",
            "\u001b[0;31mValueError\u001b[0m                                Traceback (most recent call last)",
            "\u001b[0;32m<ipython-input-25-6f387125edc8>\u001b[0m in \u001b[0;36m<cell line: 3>\u001b[0;34m()\u001b[0m\n\u001b[1;32m      1\u001b[0m \u001b[0ma\u001b[0m \u001b[0;34m=\u001b[0m \u001b[0;36m20230405\u001b[0m\u001b[0;34m\u001b[0m\u001b[0;34m\u001b[0m\u001b[0m\n\u001b[1;32m      2\u001b[0m \u001b[0;34m\u001b[0m\u001b[0m\n\u001b[0;32m----> 3\u001b[0;31m \u001b[0mdate\u001b[0m\u001b[0;34m.\u001b[0m\u001b[0mfromisoformat\u001b[0m\u001b[0;34m(\u001b[0m\u001b[0;34m'20230405'\u001b[0m\u001b[0;34m)\u001b[0m\u001b[0;34m\u001b[0m\u001b[0;34m\u001b[0m\u001b[0m\n\u001b[0m",
            "\u001b[0;31mValueError\u001b[0m: Invalid isoformat string: '20230405'"
          ]
        }
      ]
    },
    {
      "cell_type": "code",
      "source": [],
      "metadata": {
        "id": "9fPEUkVOQUQi"
      },
      "execution_count": null,
      "outputs": []
    }
  ]
}